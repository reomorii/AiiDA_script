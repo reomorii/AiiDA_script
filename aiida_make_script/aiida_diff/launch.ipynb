{
 "cells": [
  {
   "cell_type": "code",
   "execution_count": 1,
   "metadata": {},
   "outputs": [
    {
     "data": {
      "text/plain": [
       "Profile<uuid='96abe6da047b431294d9057e5dbc634c' name='quicksetup'>"
      ]
     },
     "execution_count": 1,
     "metadata": {},
     "output_type": "execute_result"
    }
   ],
   "source": [
    "\"\"\"Launch a calculation using the 'diff-tutorial' plugin\"\"\"\n",
    "\n",
    "from pathlib import Path\n",
    "\n",
    "from aiida import engine, orm\n",
    "from aiida.common.exceptions import NotExistent\n",
    "\n",
    "INPUT_DIR = Path().resolve() / 'input_files'\n",
    "\n",
    "from aiida.manage.configuration import load_profile\n",
    "load_profile()"
   ]
  },
  {
   "cell_type": "code",
   "execution_count": 2,
   "metadata": {},
   "outputs": [],
   "source": [
    "# Create or load code\n",
    "computer = orm.load_computer('plugin_localhost')\n",
    "try:\n",
    "    code = orm.load_code('diff@plugin_localhost')\n",
    "except NotExistent:\n",
    "    # Setting up code via python API (or use \"verdi code setup\")\n",
    "    code = orm.InstalledCode(\n",
    "        label='diff', computer=computer, filepath_executable='/usr/bin/diff', default_calc_job_plugin='diff-tutorial'\n",
    "    )"
   ]
  },
  {
   "cell_type": "code",
   "execution_count": 4,
   "metadata": {},
   "outputs": [],
   "source": [
    "# Set up inputs\n",
    "builder = code.get_builder()\n",
    "builder.file1 = orm.SinglefileData(file=INPUT_DIR / 'file1.txt')\n",
    "builder.file2 = orm.SinglefileData(file=INPUT_DIR / 'file2.txt')\n",
    "builder.metadata.description = 'Test job submission with the aiida_diff_tutorial plugin'"
   ]
  },
  {
   "cell_type": "code",
   "execution_count": 5,
   "metadata": {},
   "outputs": [
    {
     "name": "stdout",
     "output_type": "stream",
     "text": [
      "Computed diff between files:\n",
      "2c2\n",
      "< content1\n",
      "---\n",
      "> content2\n",
      "\n"
     ]
    }
   ],
   "source": [
    "# Run the calculation & parse results\n",
    "result = engine.run(builder)\n",
    "computed_diff = result['diff'].get_content()\n",
    "print(f'Computed diff between files:\\n{computed_diff}')"
   ]
  }
 ],
 "metadata": {
  "kernelspec": {
   "display_name": "aiida_CrySPY_nim",
   "language": "python",
   "name": "python3"
  },
  "language_info": {
   "codemirror_mode": {
    "name": "ipython",
    "version": 3
   },
   "file_extension": ".py",
   "mimetype": "text/x-python",
   "name": "python",
   "nbconvert_exporter": "python",
   "pygments_lexer": "ipython3",
   "version": "3.12.2"
  }
 },
 "nbformat": 4,
 "nbformat_minor": 2
}
