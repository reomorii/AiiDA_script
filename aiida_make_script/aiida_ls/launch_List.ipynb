{
 "cells": [
  {
   "cell_type": "code",
   "execution_count": 2,
   "metadata": {},
   "outputs": [
    {
     "data": {
      "text/plain": [
       "Profile<uuid='96abe6da047b431294d9057e5dbc634c' name='quicksetup'>"
      ]
     },
     "execution_count": 2,
     "metadata": {},
     "output_type": "execute_result"
    }
   ],
   "source": [
    "from pathlib import Path\n",
    "\n",
    "from aiida import engine, orm\n",
    "from aiida.common.exceptions import NotExistent\n",
    "\n",
    "DIRECTORY_PATH = \"/Users/moriireo\"\n",
    "\n",
    "from aiida.manage.configuration import load_profile\n",
    "load_profile()"
   ]
  },
  {
   "cell_type": "code",
   "execution_count": 3,
   "metadata": {},
   "outputs": [],
   "source": [
    "# Create or load code\n",
    "computer = orm.load_computer('plugin_localhost')\n",
    "try:\n",
    "    code = orm.load_code('ls@plugin_localhost')\n",
    "except NotExistent:\n",
    "    # Setting up code via python API (or use \"verdi code setup\")\n",
    "    code = orm.InstalledCode(\n",
    "        label='ls', computer=computer, filepath_executable='/bin/ls', default_calc_job_plugin='ls-tutorial'\n",
    "    )"
   ]
  },
  {
   "cell_type": "code",
   "execution_count": 4,
   "metadata": {},
   "outputs": [],
   "source": [
    "# Set up inputs\n",
    "builder = code.get_builder()\n",
    "builder.directory_path = orm.Str(DIRECTORY_PATH)\n",
    "builder.metadata.description = 'Test job submission with the aiida_ls_tutorial plugin'"
   ]
  },
  {
   "cell_type": "code",
   "execution_count": 6,
   "metadata": {},
   "outputs": [
    {
     "name": "stdout",
     "output_type": "stream",
     "text": [
      "ls files:\n",
      "['\\x1b[36mApplications\\x1b[m\\x1b[m', '\\x1b[36mDesktop\\x1b[m\\x1b[m', '\\x1b[36mDocuments\\x1b[m\\x1b[m', '\\x1b[36mDownloads\\x1b[m\\x1b[m', '\\x1b[36mLibrary\\x1b[m\\x1b[m', '\\x1b[36mMaterials_Informatics_M1\\x1b[m\\x1b[m', '\\x1b[36mMovies\\x1b[m\\x1b[m', '\\x1b[36mMusic\\x1b[m\\x1b[m', '\\x1b[36mPictures\\x1b[m\\x1b[m', '\\x1b[36mPublic\\x1b[m\\x1b[m', '\\x1b[36matomsk\\x1b[m\\x1b[m', '\\x1b[36mengineer3\\x1b[m\\x1b[m', '\\x1b[36mold_aiida_workspace\\x1b[m\\x1b[m', '\\x1b[36mold_mac\\x1b[m\\x1b[m', '\\x1b[36mworkspace\\x1b[m\\x1b[m']\n"
     ]
    }
   ],
   "source": [
    "result = engine.run(builder)\n",
    "computed_ls = result['ls_output'].get_list()\n",
    "print(f'ls files:\\n{computed_ls}')"
   ]
  }
 ],
 "metadata": {
  "kernelspec": {
   "display_name": "aiida_CrySPY_nim",
   "language": "python",
   "name": "python3"
  },
  "language_info": {
   "codemirror_mode": {
    "name": "ipython",
    "version": 3
   },
   "file_extension": ".py",
   "mimetype": "text/x-python",
   "name": "python",
   "nbconvert_exporter": "python",
   "pygments_lexer": "ipython3",
   "version": "3.12.2"
  }
 },
 "nbformat": 4,
 "nbformat_minor": 2
}
