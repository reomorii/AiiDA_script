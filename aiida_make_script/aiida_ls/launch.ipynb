{
 "cells": [
  {
   "cell_type": "code",
   "execution_count": 1,
   "metadata": {},
   "outputs": [
    {
     "data": {
      "text/plain": [
       "Profile<uuid='96abe6da047b431294d9057e5dbc634c' name='quicksetup'>"
      ]
     },
     "execution_count": 1,
     "metadata": {},
     "output_type": "execute_result"
    }
   ],
   "source": [
    "from pathlib import Path\n",
    "\n",
    "from aiida import engine, orm\n",
    "from aiida.common.exceptions import NotExistent\n",
    "\n",
    "DIRECTORY_PATH = \"/Users/moriireo\"\n",
    "\n",
    "from aiida.manage.configuration import load_profile\n",
    "load_profile()"
   ]
  },
  {
   "cell_type": "code",
   "execution_count": 2,
   "metadata": {},
   "outputs": [],
   "source": [
    "# Create or load code\n",
    "computer = orm.load_computer('plugin_localhost')\n",
    "try:\n",
    "    code = orm.load_code('ls@plugin_localhost')\n",
    "except NotExistent:\n",
    "    # Setting up code via python API (or use \"verdi code setup\")\n",
    "    code = orm.InstalledCode(\n",
    "        label='ls', computer=computer, filepath_executable='/bin/ls', default_calc_job_plugin='ls-tutorial'\n",
    "    )"
   ]
  },
  {
   "cell_type": "code",
   "execution_count": 3,
   "metadata": {},
   "outputs": [],
   "source": [
    "# Set up inputs\n",
    "builder = code.get_builder()\n",
    "builder.directory_path = orm.Str(DIRECTORY_PATH)\n",
    "builder.metadata.description = 'Test job submission with the aiida_ls_tutorial plugin'"
   ]
  },
  {
   "cell_type": "code",
   "execution_count": 4,
   "metadata": {},
   "outputs": [
    {
     "name": "stdout",
     "output_type": "stream",
     "text": [
      "ls files:\n",
      "\u001b[36mApplications\u001b[m\u001b[m\n",
      "\u001b[36mDesktop\u001b[m\u001b[m\n",
      "\u001b[36mDocuments\u001b[m\u001b[m\n",
      "\u001b[36mDownloads\u001b[m\u001b[m\n",
      "\u001b[36mLibrary\u001b[m\u001b[m\n",
      "\u001b[36mMaterials_Informatics_M1\u001b[m\u001b[m\n",
      "\u001b[36mMovies\u001b[m\u001b[m\n",
      "\u001b[36mMusic\u001b[m\u001b[m\n",
      "\u001b[36mPictures\u001b[m\u001b[m\n",
      "\u001b[36mPublic\u001b[m\u001b[m\n",
      "\u001b[36matomsk\u001b[m\u001b[m\n",
      "\u001b[36mengineer3\u001b[m\u001b[m\n",
      "\u001b[36mold_aiida_workspace\u001b[m\u001b[m\n",
      "\u001b[36mold_mac\u001b[m\u001b[m\n",
      "\u001b[36mworkspace\u001b[m\u001b[m\n",
      "\n"
     ]
    }
   ],
   "source": [
    "result = engine.run(builder)\n",
    "computed_ls = result['ls_output'].get_content()\n",
    "print(f'ls files:\\n{computed_ls}')"
   ]
  }
 ],
 "metadata": {
  "kernelspec": {
   "display_name": "aiida_CrySPY_nim",
   "language": "python",
   "name": "python3"
  },
  "language_info": {
   "codemirror_mode": {
    "name": "ipython",
    "version": 3
   },
   "file_extension": ".py",
   "mimetype": "text/x-python",
   "name": "python",
   "nbconvert_exporter": "python",
   "pygments_lexer": "ipython3",
   "version": "3.12.2"
  }
 },
 "nbformat": 4,
 "nbformat_minor": 2
}
